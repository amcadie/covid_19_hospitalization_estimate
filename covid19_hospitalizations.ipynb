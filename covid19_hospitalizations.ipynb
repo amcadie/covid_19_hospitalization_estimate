{
 "cells": [
  {
   "cell_type": "markdown",
   "metadata": {},
   "source": [
    "### Exploratory Analysis of Covid-19 Cases, Hospitalizations, and Hospital Capacity"
   ]
  },
  {
   "cell_type": "markdown",
   "metadata": {},
   "source": [
    "#### Aaron McAdie"
   ]
  },
  {
   "cell_type": "markdown",
   "metadata": {},
   "source": [
    "I've been really curious about how the current case load in the US compares with regional hospital beds, and which regions are approaching their capacity.  The folks at the New York times just open sourced their [county-level Covid-19 case dataset](https://github.com/nytimes/covid-19-data), and it provides a great jumping off point to probe the question.  It's also a good opportunity to brush up on Python, since I do ~90% of my day job using R.\n",
    "\n",
    "Also, since I started working on this, I came across the [incredible modeling and data viz](https://covid19.healthdata.org/projections) done by the UW IHME team.  They have done a way better job than I have the subject matter expertise to match, so I'll pull in their projections and explore it from a few different angles."
   ]
  },
  {
   "cell_type": "code",
   "execution_count": null,
   "metadata": {},
   "outputs": [],
   "source": [
    "import requests\n",
    "import re\n",
    "import zipfile\n",
    "from bs4 import BeautifulSoup\n",
    "import pandas as pd\n",
    "import altair as alt"
   ]
  },
  {
   "cell_type": "markdown",
   "metadata": {},
   "source": [
    "#### Dataset 1 - NYTimes Cases, thanks NYT!"
   ]
  },
  {
   "cell_type": "code",
   "execution_count": null,
   "metadata": {},
   "outputs": [],
   "source": [
    "cases = pd.read_csv('https://raw.githubusercontent.com/nytimes/covid-19-data/master/us-counties.csv')"
   ]
  },
  {
   "cell_type": "code",
   "execution_count": null,
   "metadata": {},
   "outputs": [],
   "source": [
    "cases.head()"
   ]
  },
  {
   "cell_type": "code",
   "execution_count": null,
   "metadata": {},
   "outputs": [],
   "source": [
    "cases.dtypes"
   ]
  },
  {
   "cell_type": "code",
   "execution_count": null,
   "metadata": {},
   "outputs": [],
   "source": [
    "cases = cases.assign(\n",
    "    date = pd.to_datetime(cases['date']),\n",
    "    fips = cases['fips'].astype(pd.Int32Dtype())\n",
    ")"
   ]
  },
  {
   "cell_type": "markdown",
   "metadata": {},
   "source": [
    "Cases are cumulative, we want new cases each day to estimate the hospital case load"
   ]
  },
  {
   "cell_type": "code",
   "execution_count": null,
   "metadata": {},
   "outputs": [],
   "source": [
    "cases['cases_shifted'] = (\n",
    "    cases.groupby(['county', 'state'])\n",
    "    .cases\n",
    "    .shift(1)\n",
    "    .fillna(0)\n",
    "    .astype(int)\n",
    ")"
   ]
  },
  {
   "cell_type": "code",
   "execution_count": null,
   "metadata": {},
   "outputs": [],
   "source": [
    "cases['cases_new'] = cases['cases'] - cases['cases_shifted']"
   ]
  },
  {
   "cell_type": "markdown",
   "metadata": {},
   "source": [
    "Check logic by plotting King County data.  I've been wanting to see more presentations of new cases per day rather than the cumulative plots that are more commonly displayed to get a better feel for how we are 'flattening the curve'."
   ]
  },
  {
   "cell_type": "code",
   "execution_count": null,
   "metadata": {},
   "outputs": [],
   "source": [
    "king = cases.query('county == \"King\" & state == \"Washington\"')"
   ]
  },
  {
   "cell_type": "code",
   "execution_count": null,
   "metadata": {},
   "outputs": [],
   "source": [
    "base = alt.Chart(king[['date', 'cases', 'cases_new']]).encode(alt.X('monthdate(date):O', title = 'Date'))\n",
    "bars = base.mark_bar(color = '#65799b').encode(y = 'cases_new', tooltip = 'cases_new')\n",
    "bars.properties(title = 'King County WA Epidemiological Curve (new cases per day)')"
   ]
  },
  {
   "cell_type": "code",
   "execution_count": null,
   "metadata": {},
   "outputs": [],
   "source": [
    "line = base.mark_line(color = '#e23e57').encode(y = 'cases', tooltip = 'cases')\n",
    "\n",
    "(bars + line).properties(title = 'King County Cumulative and Daily Covid-19 Cases')"
   ]
  },
  {
   "cell_type": "markdown",
   "metadata": {},
   "source": [
    "Passes sanity check.  Interesting that it looks like there are 4 roughly linear regimes on the cumulative curve, just from eyeballing"
   ]
  },
  {
   "cell_type": "code",
   "execution_count": null,
   "metadata": {},
   "outputs": [],
   "source": [
    "statewide = (\n",
    "    cases.groupby(['date', 'state'])\n",
    "    .aggregate({'cases':'sum'})\n",
    "    .reset_index()\n",
    ")"
   ]
  },
  {
   "cell_type": "code",
   "execution_count": null,
   "metadata": {},
   "outputs": [],
   "source": [
    "statewide.head()"
   ]
  },
  {
   "cell_type": "markdown",
   "metadata": {},
   "source": [
    "#### State by State Cases Over Time"
   ]
  },
  {
   "cell_type": "code",
   "execution_count": null,
   "metadata": {},
   "outputs": [],
   "source": [
    "(alt.Chart(statewide)\n",
    " .mark_rect()\n",
    " .encode(x = alt.X('date:O', axis = alt.Axis(labels = False)),\n",
    "         y = 'state:N',\n",
    "         color = 'cases:Q')\n",
    " .properties(title = 'Cumulative US Covid-19 Cases by Day', width = 600)\n",
    ")"
   ]
  },
  {
   "cell_type": "code",
   "execution_count": null,
   "metadata": {},
   "outputs": [],
   "source": [
    "(alt.Chart(statewide[statewide['state'] != 'New York'])\n",
    " .mark_rect()\n",
    " .encode(x = alt.X('date:O', axis = alt.Axis(labels = False)),\n",
    "         y = 'state:N',\n",
    "         color = 'cases:Q',\n",
    "         tooltip = ['date', 'state', 'cases'])\n",
    " .properties(title = 'Cumulative US Covid-19 Cases by Day (NY removed)', width = 600)\n",
    ")"
   ]
  },
  {
   "cell_type": "markdown",
   "metadata": {},
   "source": [
    "### Dataset 2 - Population and Demographics by County (U.S. Census Bureau)"
   ]
  },
  {
   "cell_type": "code",
   "execution_count": null,
   "metadata": {},
   "outputs": [],
   "source": [
    "pop = pd.read_csv('https://www2.census.gov/programs-surveys/popest/datasets/2010-2017/counties/asrh/cc-est2017-alldata.csv',\n",
    "                 encoding='ISO-8859-1')"
   ]
  },
  {
   "cell_type": "code",
   "execution_count": null,
   "metadata": {},
   "outputs": [],
   "source": [
    "pop.head()"
   ]
  },
  {
   "cell_type": "markdown",
   "metadata": {},
   "source": [
    "#### Join cases and census data to get per-capita infections"
   ]
  },
  {
   "cell_type": "code",
   "execution_count": null,
   "metadata": {},
   "outputs": [],
   "source": [
    "# Filter to get most recent census data (2017)\n",
    "# strip the ' County' from the census data to join to cases\n",
    "# start with total age\n",
    "\n",
    "pop17 = (pop\n",
    "       .query('YEAR == 10 and AGEGRP == 0')\n",
    "       .assign(county_key = lambda x: x['CTYNAME'].str.extract(r'([A-Za-z\\s\\.\\-]*)(?=\\sCounty)'))\n",
    "       .loc[:,['STNAME', 'CTYNAME', 'county_key', 'TOT_POP']]\n",
    "      )"
   ]
  },
  {
   "cell_type": "code",
   "execution_count": null,
   "metadata": {},
   "outputs": [],
   "source": [
    "# Manually fix a few County/district names so they join to the NYT cases dataset\n",
    "\n",
    "# All cases for the five boroughs of New York City \n",
    "# (New York, Kings, Queens, Bronx and Richmond counties) \n",
    "# are assigned to a single area called New York City.\n",
    "nyc_idx = (pop17.CTYNAME.str.contains(r'New York|Kings|Queens|Bronx|Richmond')) \\\n",
    "    & (pop17.STNAME == 'New York') # and vs & is so confusing to me\n",
    "    \n",
    "pop17.loc[nyc_idx, 'county_key'] = 'New York City'\n",
    "\n",
    "# D.C\n",
    "pop17.loc[pop17.CTYNAME == 'District of Columbia', 'county_key'] = 'District of Columbia'"
   ]
  },
  {
   "cell_type": "code",
   "execution_count": null,
   "metadata": {},
   "outputs": [],
   "source": [
    "pop17.loc[nyc_idx,]"
   ]
  },
  {
   "cell_type": "code",
   "execution_count": null,
   "metadata": {},
   "outputs": [],
   "source": [
    "pop17_clean = (pop17\n",
    "               .groupby(['county_key', 'STNAME'])\n",
    "               .agg({'TOT_POP':'sum'})\n",
    "               .reset_index()\n",
    "              )"
   ]
  },
  {
   "cell_type": "code",
   "execution_count": null,
   "metadata": {},
   "outputs": [],
   "source": [
    "cases_percap = cases.merge(pop17_clean, how = 'left', left_on = ['county', 'state'], right_on = ['county_key', 'STNAME'])"
   ]
  },
  {
   "cell_type": "code",
   "execution_count": null,
   "metadata": {},
   "outputs": [],
   "source": [
    "cases_percap.head()"
   ]
  },
  {
   "cell_type": "code",
   "execution_count": null,
   "metadata": {},
   "outputs": [],
   "source": [
    "# check mismatches\n",
    "sum(pd.isnull(cases_percap.TOT_POP))"
   ]
  },
  {
   "cell_type": "code",
   "execution_count": null,
   "metadata": {},
   "outputs": [],
   "source": [
    "cases_percap.loc[pd.isnull(cases_percap.TOT_POP), 'county'].value_counts()"
   ]
  },
  {
   "cell_type": "markdown",
   "metadata": {},
   "source": [
    "Still some mismatches to iron out, but let's go forward with this data for now"
   ]
  },
  {
   "cell_type": "code",
   "execution_count": null,
   "metadata": {},
   "outputs": [],
   "source": [
    "cases_percap['cases_per10k'] = cases_percap.cases / cases_percap.TOT_POP * 10000\n",
    "cases_percap['cases_new_per1k'] = cases_percap.cases_new / cases_percap.TOT_POP * 1000\n",
    "cases_percap['county_label'] = cases_percap.county + ', ' + cases_percap.STNAME"
   ]
  },
  {
   "cell_type": "code",
   "execution_count": null,
   "metadata": {},
   "outputs": [],
   "source": [
    "cases_percap.head()"
   ]
  },
  {
   "cell_type": "code",
   "execution_count": null,
   "metadata": {},
   "outputs": [],
   "source": [
    "# cumulative cases for counties with > 1 million people\n",
    "# save data as JSON for better performance with Altair\n",
    "\n",
    "cases_percap_url = 'cases_percap.json'\n",
    "\n",
    "cases_percap[cases_percap.TOT_POP > 1000000].to_json(cases_percap_url, orient = 'records')\n",
    "\n",
    "# can't figure out why the file url isn't working, can read it in just fine with open('cases_percap.json')\n",
    "# these data are small enough for just saving the dataset with the chart though\n",
    "cases_percap_big = cases_percap.loc[cases_percap.TOT_POP > 1000000, \n",
    "                                    ['date', 'cases', 'cases_per10k', 'county_label', 'cases_new_per1k', 'STNAME', 'TOT_POP']]\n",
    "\n",
    "(alt.Chart(cases_percap_big)\n",
    "    .mark_line(color = 'grey', opacity = 0.6)\n",
    "    .encode(x = 'date:T',\n",
    "            y = 'cases_per10k:Q',\n",
    "            color = 'county_label:N',\n",
    "            tooltip = ['county_label:N', 'cases:Q'])\n",
    "    .properties(height = 400, \n",
    "                width = 700,\n",
    "               title = 'Per Capita Covid-19 Cases, Counties > 1M')\n",
    "    .interactive())"
   ]
  },
  {
   "cell_type": "markdown",
   "metadata": {},
   "source": [
    "Getting somewhere, but need a way to visually distinguish. Maybe a panel of plots with cross-filtering?"
   ]
  },
  {
   "cell_type": "code",
   "execution_count": null,
   "metadata": {},
   "outputs": [],
   "source": [
    "(alt.Chart(cases_percap_big)\n",
    "    .mark_point()\n",
    "    .encode(x = 'TOT_POP:Q',\n",
    "            y = 'STNAME:N',\n",
    "            tooltip = 'county_label'))"
   ]
  },
  {
   "cell_type": "code",
   "execution_count": null,
   "metadata": {},
   "outputs": [],
   "source": [
    "# combine the dot plot and the cumulative case plot, with cross-filtering\n",
    "brush = alt.selection(type = 'interval', resolve = 'global')\n",
    "base = alt.Chart(cases_percap_big)\n",
    "\n",
    "pop_points = (base.mark_point()\n",
    "             .encode(x = alt.X('TOT_POP:Q', axis = alt.Axis(title = 'Population')),\n",
    "                     y = alt.Y('STNAME:N', axis = alt.Axis(title = 'State')))\n",
    "             .add_selection(brush)\n",
    "             .properties(height = 400, \n",
    "                         width = 200,\n",
    "                         title = 'Counties > 1M (brush to select)'))\n",
    "\n",
    "percap_cases_line = (base.mark_line(color = 'grey', opacity = 0.6)\n",
    "            .encode(x = alt.X('date:T', axis = alt.Axis(title = 'Date')),\n",
    "                    y = alt.Y('cases_per10k:Q', axis = alt.Axis(title = 'Cases per 10,000 people')),\n",
    "                    color = 'county_label:N',\n",
    "                    tooltip = 'county_label:N')\n",
    "            .properties(height = 400, \n",
    "                        width = 450,\n",
    "                        title = 'Per Capita Covid-19 Cases, Counties > 1M')\n",
    "            .transform_filter(brush))\n",
    "\n",
    "(pop_points | percap_cases_line).save('percap_covid_big_counties.html')\n",
    "\n",
    "pop_points | percap_cases_line"
   ]
  },
  {
   "cell_type": "markdown",
   "metadata": {},
   "source": [
    "Wow, Altair is rad!"
   ]
  },
  {
   "cell_type": "markdown",
   "metadata": {},
   "source": [
    "Stealing idea that Nate Cohn had for new cases vs prevalence, updating with new data\n",
    "tweaking by using a moving average of new cases per capita rather than % change in cumulative\n",
    "cases, since we are well into the pandemic, the same absolute number of new cases will be smaller and\n",
    "smaller as a percent of the cumulative total"
   ]
  },
  {
   "cell_type": "code",
   "execution_count": null,
   "metadata": {},
   "outputs": [],
   "source": [
    "# create column for rolling 5 day average of new cases\n",
    "cases_percap_big = cases_percap_big.sort_values(['county_label', 'date'])\n",
    "#cases_percap_big[~cases_percap_big['cases_new_per1k'].isna()]\n",
    "\n",
    "cases_percap_big['cases_new_per1k_MA'] = (cases_percap_big\n",
    "                                          .groupby('county_label')['cases_new_per1k']\n",
    "                                          .transform(lambda x: x.rolling(5).mean()))"
   ]
  },
  {
   "cell_type": "code",
   "execution_count": null,
   "metadata": {},
   "outputs": [],
   "source": [
    "lines = (alt.Chart(cases_percap_big)\n",
    "    .mark_line()\n",
    "    .encode(x = 'cases_per10k:Q',\n",
    "            y = 'cases_new_per1k_MA:Q',\n",
    "            stroke = 'county_label:N',\n",
    "            tooltip = 'county_label:N')\n",
    "    .interactive()\n",
    "    .properties(height = 400, width = 700))\n",
    "\n",
    "# get latest record per county for label\n",
    "cases_percap_big['latest'] = cases_percap_big.groupby('county_label')['date'].transform('max')\n",
    "cases_percap_big_latest = cases_percap_big[cases_percap_big.date == cases_percap_big.latest]\n",
    "\n",
    "labels = (alt.Chart(cases_percap_big_latest)\n",
    "          .mark_point()\n",
    "          .encode(x = 'cases_per10k:Q',\n",
    "                  y = 'cases_new_per1k_MA:Q')\n",
    "          .mark_text(align = 'left',\n",
    "                    baseline = 'middle',\n",
    "                    color = 'grey')\n",
    "          .encode(text = 'county_label:N'))\n",
    "\n",
    "lines + labels"
   ]
  },
  {
   "cell_type": "code",
   "execution_count": null,
   "metadata": {},
   "outputs": [],
   "source": [
    "#oh snap, do the side-by side panel, with the scatter being most recent new cases per 1k, and the x being population (or \n",
    "#maybe log population), and then the right plot the new cases vs cases per 10k\n",
    "\n",
    "# add a max cumulative cases column for the scatter plot, could do with the Altair call, but hopefully this will get the\n",
    "# selection behavior I'm looking for\n",
    "\n",
    "max_cases = (cases_percap_big\n",
    "             .groupby('county_label')\n",
    "             .agg({'cases_per10k': 'max'})\n",
    "             .reset_index()\n",
    "             .rename(columns = {'cases_per10k': 'max_cases_per10k'})\n",
    "            )\n",
    "\n",
    "cases_percap_big = cases_percap_big.merge(max_cases, how = 'inner', on = 'county_label')\n",
    "\n",
    "\n",
    "brush2 = alt.selection(type = 'interval', \n",
    "                       empty = 'all')\n",
    "\n",
    "scatter_pop = (alt.Chart(cases_percap_big)\n",
    "               .mark_point()\n",
    "               .encode(x = alt.X('TOT_POP:Q', \n",
    "                                 axis = alt.Axis(title = 'County Population (log2)'),\n",
    "                                 scale = alt.Scale(type = 'log', base = 2)),\n",
    "                       y = alt.Y('max_cases_per10k:Q',\n",
    "                                axis = alt.Axis(title = 'Total Cases per 10,000 (log2)'),\n",
    "                                scale = alt.Scale(type = 'log', base = 2)))\n",
    "               .add_selection(brush2)\n",
    "               .properties(height = 400, \n",
    "                           width = 200,\n",
    "                           title = ['brush to select population range', \n",
    "                                    'drag selection to compare similar size counties'])\n",
    "              )\n",
    "\n",
    "spread_chart = (alt.Chart(cases_percap_big)\n",
    "                .mark_line()\n",
    "                .encode(x = alt.X('cases_per10k:Q',\n",
    "                                  axis = alt.Axis(title = 'Cumulative Cases per 10,000')),\n",
    "                        y = alt.Y('cases_new_per1k_MA:Q',\n",
    "                                  axis = alt.Axis(title = '5-day Average of New Cases per 1,000')),\n",
    "                        color = 'county_label:N',\n",
    "                        tooltip = 'county_label:N')\n",
    "                .transform_filter(brush2)\n",
    "                .properties(height = 400, \n",
    "                            width = 450,\n",
    "                            title = 'Transmittance vs Prevalence, Counties > 1M')\n",
    "                .interactive()\n",
    "               )\n",
    "\n",
    "scatter_pop | spread_chart"
   ]
  },
  {
   "cell_type": "markdown",
   "metadata": {},
   "source": [
    "Can't figure out how to add the labels on the spread chart but pretty happy with this!\n",
    "\n",
    "The biggest things that jumped out are that Miami-Dade and Cook Illinois are the two big counties that could be the next major oubreaks.  The virus is relatively prevalent in those communities, and the rate of new cases is also relatively high on a per-capita basis.\n",
    "\n",
    "Of the smaller counties (note that this is relative, all counties plotted had more than 1 million residents in 2017), by far the most prevalence/fasted spread is in Suffolk and Nassau counties, which makes sense since these are adjacent to NYC.  Middlesex MA and Phildelphia PA look to be on a trajectory of rapid spread.  Wayne MI (which includes Detroit) has had quite a dramatic decrease in new cases over the last few days (provided they are still testing at the same rate)."
   ]
  },
  {
   "cell_type": "markdown",
   "metadata": {},
   "source": [
    "### Dataset 3 - Hospitalization Rates by Age Group (CDC)"
   ]
  },
  {
   "cell_type": "markdown",
   "metadata": {},
   "source": [
    "The CDC published a table of hospitalization, ICU, and death rates by age group, based on ~2500 hospitalizations in the US in Feb/Mar.  This could be used to get a rough estimate of particular types of beds needed, namely pediatric, which is of high interest for us here at Seattle Children's."
   ]
  },
  {
   "cell_type": "code",
   "execution_count": null,
   "metadata": {},
   "outputs": [],
   "source": [
    "# get html from CDC\n",
    "cdc_html = requests.get('https://www.cdc.gov/mmwr/volumes/69/wr/mm6912e2.htm')\n",
    "soup = BeautifulSoup(cdc_html.content)"
   ]
  },
  {
   "cell_type": "code",
   "execution_count": null,
   "metadata": {},
   "outputs": [],
   "source": [
    "# find table\n",
    "tables = soup.find_all('table')\n",
    "tables[0].find_all('tbody')"
   ]
  },
  {
   "cell_type": "code",
   "execution_count": null,
   "metadata": {},
   "outputs": [],
   "source": [
    "table = tables[0].find('tbody')\n",
    "\n",
    "rows_dict = dict()\n",
    "\n",
    "for idx, row in enumerate(table.find_all('tr')):\n",
    "    temp_list = list()\n",
    "    for col in row.find_all('td'):\n",
    "        temp_list.append(col.string)\n",
    "    rows_dict[idx] = temp_list"
   ]
  },
  {
   "cell_type": "code",
   "execution_count": null,
   "metadata": {},
   "outputs": [],
   "source": [
    "cdc_df = pd.DataFrame(rows_dict).T\n",
    "cdc_df.columns = ['age_range', 'hosp_rate', 'icu_rate', 'death_rate']\n",
    "cdc_df"
   ]
  },
  {
   "cell_type": "code",
   "execution_count": null,
   "metadata": {},
   "outputs": [],
   "source": [
    "# clean up a bit, extract relevant info into usable columns\n",
    "# self-challenge by doing this with vectorized pandas functions rather than standard regex\n",
    "\n",
    "cdc_df = (cdc_df\n",
    "          .assign(n = lambda x: x['age_range'].str.extract(r'\\(([0-9,]{3,})\\)'),\n",
    "                  age_range = lambda x: x['age_range'].str.extract(r'(.*)\\s\\([0-9,]{3,}\\)'),\n",
    "                  hosp_lo = lambda x: x['hosp_rate'].str.extract(r'([0-9\\.]{2,}).[0-9\\.]{2,}'),\n",
    "                  hosp_hi = lambda x: x['hosp_rate'].str.extract(r'[0-9\\.]{2,}.([0-9\\.]{2,})'))\n",
    "         )\n",
    "\n",
    "cdc_df"
   ]
  },
  {
   "cell_type": "code",
   "execution_count": null,
   "metadata": {},
   "outputs": [],
   "source": [
    "# strip off total into separate df\n",
    "cdc_total = cdc_df[cdc_df.age_range.str.contains('Total')]\n",
    "cdc_df = cdc_df[~cdc_df.age_range.str.contains('Total')]"
   ]
  },
  {
   "cell_type": "markdown",
   "metadata": {},
   "source": [
    "### Dataset 4 - Hospital Locations and Capacity (U.S. Homeland Infrastructure Foundation-Level Data)"
   ]
  },
  {
   "cell_type": "code",
   "execution_count": null,
   "metadata": {},
   "outputs": [],
   "source": [
    "hosp_req = requests.get('https://opendata.arcgis.com/datasets/6ac5e325468c4cb9b905f1728d6fbf0f_0.geojson')"
   ]
  },
  {
   "cell_type": "code",
   "execution_count": null,
   "metadata": {},
   "outputs": [],
   "source": [
    "hosp_json = hosp_req.json()\n",
    "hosp_json['features'][0]\n",
    "\n",
    "hosp_data = [x['properties'] for x in hosp_json['features']]\n",
    "\n",
    "hosp_df = pd.DataFrame(hosp_data)\n",
    "\n",
    "hosp_df.head()"
   ]
  },
  {
   "cell_type": "code",
   "execution_count": null,
   "metadata": {},
   "outputs": [],
   "source": []
  }
 ],
 "metadata": {
  "kernelspec": {
   "display_name": "Python [covid]",
   "language": "python",
   "name": "Python [covid]"
  },
  "language_info": {
   "codemirror_mode": {
    "name": "ipython",
    "version": 3
   },
   "file_extension": ".py",
   "mimetype": "text/x-python",
   "name": "python",
   "nbconvert_exporter": "python",
   "pygments_lexer": "ipython3",
   "version": "3.7.7"
  }
 },
 "nbformat": 4,
 "nbformat_minor": 2
}
