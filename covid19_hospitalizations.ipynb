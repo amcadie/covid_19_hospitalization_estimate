{
 "cells": [
  {
   "cell_type": "markdown",
   "metadata": {},
   "source": [
    "### Estimate of Covid-19 Hospitalizations and Hospital Capacity"
   ]
  },
  {
   "cell_type": "markdown",
   "metadata": {},
   "source": [
    "#### Aaron McAdie"
   ]
  },
  {
   "cell_type": "markdown",
   "metadata": {},
   "source": [
    "The folks at the New York times just open sourced their [county-level Covid-19 case dataset](https://github.com/nytimes/covid-19-data), and i"
   ]
  },
  {
   "cell_type": "code",
   "execution_count": 1,
   "metadata": {},
   "outputs": [],
   "source": [
    "import requests\n",
    "import re\n",
    "from bs4 import BeautifulSoup\n",
    "import pandas as pd\n",
    "import altair as alt"
   ]
  },
  {
   "cell_type": "markdown",
   "metadata": {},
   "source": [
    "#### Dataset 1 - NYTimes Cases, thanks NYT!"
   ]
  },
  {
   "cell_type": "code",
   "execution_count": 2,
   "metadata": {},
   "outputs": [],
   "source": [
    "cases = pd.read_csv('https://raw.githubusercontent.com/nytimes/covid-19-data/master/us-counties.csv')"
   ]
  },
  {
   "cell_type": "code",
   "execution_count": 3,
   "metadata": {},
   "outputs": [
    {
     "data": {
      "text/html": [
       "<div>\n",
       "<style scoped>\n",
       "    .dataframe tbody tr th:only-of-type {\n",
       "        vertical-align: middle;\n",
       "    }\n",
       "\n",
       "    .dataframe tbody tr th {\n",
       "        vertical-align: top;\n",
       "    }\n",
       "\n",
       "    .dataframe thead th {\n",
       "        text-align: right;\n",
       "    }\n",
       "</style>\n",
       "<table border=\"1\" class=\"dataframe\">\n",
       "  <thead>\n",
       "    <tr style=\"text-align: right;\">\n",
       "      <th></th>\n",
       "      <th>date</th>\n",
       "      <th>county</th>\n",
       "      <th>state</th>\n",
       "      <th>fips</th>\n",
       "      <th>cases</th>\n",
       "      <th>deaths</th>\n",
       "    </tr>\n",
       "  </thead>\n",
       "  <tbody>\n",
       "    <tr>\n",
       "      <th>0</th>\n",
       "      <td>2020-01-21</td>\n",
       "      <td>Snohomish</td>\n",
       "      <td>Washington</td>\n",
       "      <td>53061.0</td>\n",
       "      <td>1</td>\n",
       "      <td>0</td>\n",
       "    </tr>\n",
       "    <tr>\n",
       "      <th>1</th>\n",
       "      <td>2020-01-22</td>\n",
       "      <td>Snohomish</td>\n",
       "      <td>Washington</td>\n",
       "      <td>53061.0</td>\n",
       "      <td>1</td>\n",
       "      <td>0</td>\n",
       "    </tr>\n",
       "    <tr>\n",
       "      <th>2</th>\n",
       "      <td>2020-01-23</td>\n",
       "      <td>Snohomish</td>\n",
       "      <td>Washington</td>\n",
       "      <td>53061.0</td>\n",
       "      <td>1</td>\n",
       "      <td>0</td>\n",
       "    </tr>\n",
       "    <tr>\n",
       "      <th>3</th>\n",
       "      <td>2020-01-24</td>\n",
       "      <td>Cook</td>\n",
       "      <td>Illinois</td>\n",
       "      <td>17031.0</td>\n",
       "      <td>1</td>\n",
       "      <td>0</td>\n",
       "    </tr>\n",
       "    <tr>\n",
       "      <th>4</th>\n",
       "      <td>2020-01-24</td>\n",
       "      <td>Snohomish</td>\n",
       "      <td>Washington</td>\n",
       "      <td>53061.0</td>\n",
       "      <td>1</td>\n",
       "      <td>0</td>\n",
       "    </tr>\n",
       "  </tbody>\n",
       "</table>\n",
       "</div>"
      ],
      "text/plain": [
       "         date     county       state     fips  cases  deaths\n",
       "0  2020-01-21  Snohomish  Washington  53061.0      1       0\n",
       "1  2020-01-22  Snohomish  Washington  53061.0      1       0\n",
       "2  2020-01-23  Snohomish  Washington  53061.0      1       0\n",
       "3  2020-01-24       Cook    Illinois  17031.0      1       0\n",
       "4  2020-01-24  Snohomish  Washington  53061.0      1       0"
      ]
     },
     "execution_count": 3,
     "metadata": {},
     "output_type": "execute_result"
    }
   ],
   "source": [
    "cases.head()"
   ]
  },
  {
   "cell_type": "code",
   "execution_count": 4,
   "metadata": {},
   "outputs": [
    {
     "data": {
      "text/plain": [
       "date       object\n",
       "county     object\n",
       "state      object\n",
       "fips      float64\n",
       "cases       int64\n",
       "deaths      int64\n",
       "dtype: object"
      ]
     },
     "execution_count": 4,
     "metadata": {},
     "output_type": "execute_result"
    }
   ],
   "source": [
    "cases.dtypes"
   ]
  },
  {
   "cell_type": "code",
   "execution_count": 5,
   "metadata": {},
   "outputs": [],
   "source": [
    "cases = cases.assign(\n",
    "    date = pd.to_datetime(cases['date']),\n",
    "    fips = cases['fips'].astype(pd.Int32Dtype())\n",
    ")"
   ]
  },
  {
   "cell_type": "markdown",
   "metadata": {},
   "source": [
    "Cases are cumulative, we want new cases each day to estimate the hospital case load"
   ]
  },
  {
   "cell_type": "code",
   "execution_count": 6,
   "metadata": {},
   "outputs": [],
   "source": [
    "cases['cases_shifted'] = (\n",
    "    cases.groupby(['county', 'state'])\n",
    "    .cases\n",
    "    .shift(1)\n",
    "    .fillna(0)\n",
    "    .astype(int)\n",
    ")"
   ]
  },
  {
   "cell_type": "code",
   "execution_count": 7,
   "metadata": {},
   "outputs": [],
   "source": [
    "cases['cases_new'] = cases['cases'] - cases['cases_shifted']"
   ]
  },
  {
   "cell_type": "markdown",
   "metadata": {},
   "source": [
    "Check logic by plotting King County data"
   ]
  },
  {
   "cell_type": "code",
   "execution_count": 28,
   "metadata": {},
   "outputs": [],
   "source": [
    "king = cases.query('county == \"King\" & state == \"Washington\"')"
   ]
  },
  {
   "cell_type": "code",
   "execution_count": 46,
   "metadata": {},
   "outputs": [
    {
     "data": {
      "text/html": [
       "\n",
       "<div id=\"altair-viz-14\"></div>\n",
       "<script type=\"text/javascript\">\n",
       "  (function(spec, embedOpt){\n",
       "    const outputDiv = document.getElementById(\"altair-viz-14\");\n",
       "    const paths = {\n",
       "      \"vega\": \"https://cdn.jsdelivr.net/npm//vega@5?noext\",\n",
       "      \"vega-lib\": \"https://cdn.jsdelivr.net/npm//vega-lib?noext\",\n",
       "      \"vega-lite\": \"https://cdn.jsdelivr.net/npm//vega-lite@4.0.0?noext\",\n",
       "      \"vega-embed\": \"https://cdn.jsdelivr.net/npm//vega-embed@6?noext\",\n",
       "    };\n",
       "\n",
       "    function loadScript(lib) {\n",
       "      return new Promise(function(resolve, reject) {\n",
       "        var s = document.createElement('script');\n",
       "        s.src = paths[lib];\n",
       "        s.async = true;\n",
       "        s.onload = () => resolve(paths[lib]);\n",
       "        s.onerror = () => reject(`Error loading script: ${paths[lib]}`);\n",
       "        document.getElementsByTagName(\"head\")[0].appendChild(s);\n",
       "      });\n",
       "    }\n",
       "\n",
       "    function showError(err) {\n",
       "      outputDiv.innerHTML = `<div class=\"error\" style=\"color:red;\">${err}</div>`;\n",
       "      throw err;\n",
       "    }\n",
       "\n",
       "    function displayChart(vegaEmbed) {\n",
       "      vegaEmbed(outputDiv, spec, embedOpt)\n",
       "        .catch(err => showError(`Javascript Error: ${err.message}<br>This usually means there's a typo in your chart specification. See the javascript console for the full traceback.`));\n",
       "    }\n",
       "\n",
       "    if(typeof define === \"function\" && define.amd) {\n",
       "      requirejs.config({paths});\n",
       "      require([\"vega-embed\"], displayChart, err => showError(`Error loading script: ${err.message}`));\n",
       "    } else if (typeof vegaEmbed === \"function\") {\n",
       "      displayChart(vegaEmbed);\n",
       "    } else {\n",
       "      loadScript(\"vega\")\n",
       "        .then(() => loadScript(\"vega-lite\"))\n",
       "        .then(() => loadScript(\"vega-embed\"))\n",
       "        .catch(showError)\n",
       "        .then(() => displayChart(vegaEmbed));\n",
       "    }\n",
       "  })({\"config\": {\"view\": {\"continuousWidth\": 400, \"continuousHeight\": 300}}, \"layer\": [{\"mark\": {\"type\": \"bar\", \"color\": \"#65799b\"}, \"encoding\": {\"tooltip\": {\"type\": \"quantitative\", \"field\": \"cases_new\"}, \"x\": {\"type\": \"ordinal\", \"field\": \"date\", \"timeUnit\": \"monthdate\", \"title\": \"Date\"}, \"y\": {\"type\": \"quantitative\", \"field\": \"cases_new\"}}, \"selection\": {\"selector006\": {\"type\": \"interval\", \"bind\": \"scales\", \"encodings\": [\"x\", \"y\"]}}}, {\"mark\": {\"type\": \"line\", \"color\": \"#e23e57\"}, \"encoding\": {\"tooltip\": {\"type\": \"quantitative\", \"field\": \"cases\"}, \"x\": {\"type\": \"ordinal\", \"field\": \"date\", \"timeUnit\": \"monthdate\", \"title\": \"Date\"}, \"y\": {\"type\": \"quantitative\", \"field\": \"cases\"}}}], \"data\": {\"name\": \"data-d801acb69cad40ae02236b38288f0147\"}, \"title\": \"King County Cumulative and Daily Covid-19 Cases\", \"$schema\": \"https://vega.github.io/schema/vega-lite/v4.0.0.json\", \"datasets\": {\"data-d801acb69cad40ae02236b38288f0147\": [{\"date\": \"2020-02-28T00:00:00\", \"cases\": 1, \"cases_new\": 1}, {\"date\": \"2020-02-29T00:00:00\", \"cases\": 4, \"cases_new\": 3}, {\"date\": \"2020-03-01T00:00:00\", \"cases\": 11, \"cases_new\": 7}, {\"date\": \"2020-03-02T00:00:00\", \"cases\": 15, \"cases_new\": 4}, {\"date\": \"2020-03-03T00:00:00\", \"cases\": 22, \"cases_new\": 7}, {\"date\": \"2020-03-04T00:00:00\", \"cases\": 33, \"cases_new\": 11}, {\"date\": \"2020-03-05T00:00:00\", \"cases\": 52, \"cases_new\": 19}, {\"date\": \"2020-03-06T00:00:00\", \"cases\": 59, \"cases_new\": 7}, {\"date\": \"2020-03-07T00:00:00\", \"cases\": 72, \"cases_new\": 13}, {\"date\": \"2020-03-08T00:00:00\", \"cases\": 91, \"cases_new\": 19}, {\"date\": \"2020-03-09T00:00:00\", \"cases\": 117, \"cases_new\": 26}, {\"date\": \"2020-03-10T00:00:00\", \"cases\": 191, \"cases_new\": 74}, {\"date\": \"2020-03-11T00:00:00\", \"cases\": 235, \"cases_new\": 44}, {\"date\": \"2020-03-12T00:00:00\", \"cases\": 271, \"cases_new\": 36}, {\"date\": \"2020-03-13T00:00:00\", \"cases\": 329, \"cases_new\": 58}, {\"date\": \"2020-03-14T00:00:00\", \"cases\": 389, \"cases_new\": 60}, {\"date\": \"2020-03-15T00:00:00\", \"cases\": 421, \"cases_new\": 32}, {\"date\": \"2020-03-16T00:00:00\", \"cases\": 489, \"cases_new\": 68}, {\"date\": \"2020-03-17T00:00:00\", \"cases\": 518, \"cases_new\": 29}, {\"date\": \"2020-03-18T00:00:00\", \"cases\": 563, \"cases_new\": 45}, {\"date\": \"2020-03-19T00:00:00\", \"cases\": 693, \"cases_new\": 130}, {\"date\": \"2020-03-20T00:00:00\", \"cases\": 794, \"cases_new\": 101}, {\"date\": \"2020-03-21T00:00:00\", \"cases\": 935, \"cases_new\": 141}, {\"date\": \"2020-03-22T00:00:00\", \"cases\": 1036, \"cases_new\": 101}, {\"date\": \"2020-03-23T00:00:00\", \"cases\": 1166, \"cases_new\": 130}, {\"date\": \"2020-03-24T00:00:00\", \"cases\": 1278, \"cases_new\": 112}, {\"date\": \"2020-03-25T00:00:00\", \"cases\": 1360, \"cases_new\": 82}, {\"date\": \"2020-03-26T00:00:00\", \"cases\": 1579, \"cases_new\": 219}, {\"date\": \"2020-03-27T00:00:00\", \"cases\": 1830, \"cases_new\": 251}, {\"date\": \"2020-03-28T00:00:00\", \"cases\": 2079, \"cases_new\": 249}, {\"date\": \"2020-03-29T00:00:00\", \"cases\": 2163, \"cases_new\": 84}]}}, {\"mode\": \"vega-lite\"});\n",
       "</script>"
      ],
      "text/plain": [
       "alt.LayerChart(...)"
      ]
     },
     "execution_count": 46,
     "metadata": {},
     "output_type": "execute_result"
    }
   ],
   "source": [
    "base = alt.Chart(king[['date', 'cases', 'cases_new']]).encode(alt.X('monthdate(date):O', title = 'Date'))\n",
    "bars = base.mark_bar(color = '#65799b').encode(y = 'cases_new', tooltip = 'cases_new')\n",
    "line = base.mark_line(color = '#e23e57').encode(y = 'cases', tooltip = 'cases')\n",
    "\n",
    "(bars + line).properties(title = 'King County Cumulative and Daily Covid-19 Cases').interactive()"
   ]
  },
  {
   "cell_type": "code",
   "execution_count": null,
   "metadata": {},
   "outputs": [],
   "source": []
  }
 ],
 "metadata": {
  "kernelspec": {
   "display_name": "Python [covid]",
   "language": "python",
   "name": "Python [covid]"
  },
  "language_info": {
   "codemirror_mode": {
    "name": "ipython",
    "version": 3
   },
   "file_extension": ".py",
   "mimetype": "text/x-python",
   "name": "python",
   "nbconvert_exporter": "python",
   "pygments_lexer": "ipython3",
   "version": "3.7.7"
  }
 },
 "nbformat": 4,
 "nbformat_minor": 2
}
