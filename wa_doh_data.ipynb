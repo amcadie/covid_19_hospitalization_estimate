{
 "cells": [
  {
   "cell_type": "markdown",
   "metadata": {},
   "source": [
    "### Analysis of WA DOH Covid-19 Data"
   ]
  },
  {
   "cell_type": "markdown",
   "metadata": {},
   "source": [
    "Our DOH just recently made available a table of daily new cases and deaths by county.  It's the data behind the epidemiological curves displayed on their [Covid-19 page](https://www.doh.wa.gov/emergencies/coronavirus).\n",
    "\n",
    "It clearly looks like new cases and deaths are trending down, but not monotonically.  I'm curious what a 5-day moving average would look like.  Let's do it!"
   ]
  },
  {
   "cell_type": "code",
   "execution_count": 1,
   "metadata": {},
   "outputs": [],
   "source": [
    "import pandas as pd\n",
    "import altair as alt"
   ]
  },
  {
   "cell_type": "code",
   "execution_count": 6,
   "metadata": {},
   "outputs": [],
   "source": [
    "covid = pd.read_excel('https://www.doh.wa.gov/Portals/1/Documents/1600/coronavirus/data-tables/PUBLIC-CDC-Event-Date-SARS.xlsx',\n",
    "                     sheet_name = ['Cases', 'Deaths'])"
   ]
  },
  {
   "cell_type": "code",
   "execution_count": 7,
   "metadata": {},
   "outputs": [
    {
     "data": {
      "text/html": [
       "<div>\n",
       "<style scoped>\n",
       "    .dataframe tbody tr th:only-of-type {\n",
       "        vertical-align: middle;\n",
       "    }\n",
       "\n",
       "    .dataframe tbody tr th {\n",
       "        vertical-align: top;\n",
       "    }\n",
       "\n",
       "    .dataframe thead th {\n",
       "        text-align: right;\n",
       "    }\n",
       "</style>\n",
       "<table border=\"1\" class=\"dataframe\">\n",
       "  <thead>\n",
       "    <tr style=\"text-align: right;\">\n",
       "      <th></th>\n",
       "      <th>County</th>\n",
       "      <th>Day</th>\n",
       "      <th>NewPos_All</th>\n",
       "      <th>Age 0-19</th>\n",
       "      <th>Age 20-39</th>\n",
       "      <th>Age 40-59</th>\n",
       "      <th>Age 60-79</th>\n",
       "      <th>Age 80+</th>\n",
       "      <th>Positive UnkAge</th>\n",
       "      <th>dtm_updated</th>\n",
       "    </tr>\n",
       "  </thead>\n",
       "  <tbody>\n",
       "    <tr>\n",
       "      <th>0</th>\n",
       "      <td>Adams County</td>\n",
       "      <td>2020-01-16</td>\n",
       "      <td>0</td>\n",
       "      <td>0</td>\n",
       "      <td>0</td>\n",
       "      <td>0</td>\n",
       "      <td>0</td>\n",
       "      <td>0</td>\n",
       "      <td>0</td>\n",
       "      <td>2020-04-20 13:47:18.807</td>\n",
       "    </tr>\n",
       "    <tr>\n",
       "      <th>1</th>\n",
       "      <td>Adams County</td>\n",
       "      <td>2020-01-17</td>\n",
       "      <td>0</td>\n",
       "      <td>0</td>\n",
       "      <td>0</td>\n",
       "      <td>0</td>\n",
       "      <td>0</td>\n",
       "      <td>0</td>\n",
       "      <td>0</td>\n",
       "      <td>2020-04-20 13:47:18.807</td>\n",
       "    </tr>\n",
       "    <tr>\n",
       "      <th>2</th>\n",
       "      <td>Adams County</td>\n",
       "      <td>2020-01-18</td>\n",
       "      <td>0</td>\n",
       "      <td>0</td>\n",
       "      <td>0</td>\n",
       "      <td>0</td>\n",
       "      <td>0</td>\n",
       "      <td>0</td>\n",
       "      <td>0</td>\n",
       "      <td>2020-04-20 13:47:18.807</td>\n",
       "    </tr>\n",
       "    <tr>\n",
       "      <th>3</th>\n",
       "      <td>Adams County</td>\n",
       "      <td>2020-01-19</td>\n",
       "      <td>0</td>\n",
       "      <td>0</td>\n",
       "      <td>0</td>\n",
       "      <td>0</td>\n",
       "      <td>0</td>\n",
       "      <td>0</td>\n",
       "      <td>0</td>\n",
       "      <td>2020-04-20 13:47:18.807</td>\n",
       "    </tr>\n",
       "    <tr>\n",
       "      <th>4</th>\n",
       "      <td>Adams County</td>\n",
       "      <td>2020-01-20</td>\n",
       "      <td>0</td>\n",
       "      <td>0</td>\n",
       "      <td>0</td>\n",
       "      <td>0</td>\n",
       "      <td>0</td>\n",
       "      <td>0</td>\n",
       "      <td>0</td>\n",
       "      <td>2020-04-20 13:47:18.807</td>\n",
       "    </tr>\n",
       "  </tbody>\n",
       "</table>\n",
       "</div>"
      ],
      "text/plain": [
       "         County         Day  NewPos_All  Age 0-19  Age 20-39  Age 40-59  \\\n",
       "0  Adams County  2020-01-16           0         0          0          0   \n",
       "1  Adams County  2020-01-17           0         0          0          0   \n",
       "2  Adams County  2020-01-18           0         0          0          0   \n",
       "3  Adams County  2020-01-19           0         0          0          0   \n",
       "4  Adams County  2020-01-20           0         0          0          0   \n",
       "\n",
       "   Age 60-79  Age 80+  Positive UnkAge             dtm_updated  \n",
       "0          0        0                0 2020-04-20 13:47:18.807  \n",
       "1          0        0                0 2020-04-20 13:47:18.807  \n",
       "2          0        0                0 2020-04-20 13:47:18.807  \n",
       "3          0        0                0 2020-04-20 13:47:18.807  \n",
       "4          0        0                0 2020-04-20 13:47:18.807  "
      ]
     },
     "execution_count": 7,
     "metadata": {},
     "output_type": "execute_result"
    }
   ],
   "source": [
    "covid['Cases'].head()"
   ]
  },
  {
   "cell_type": "code",
   "execution_count": 8,
   "metadata": {},
   "outputs": [],
   "source": [
    "cases = covid['Cases']\n",
    "deaths = covid['Deaths']"
   ]
  },
  {
   "cell_type": "code",
   "execution_count": 10,
   "metadata": {},
   "outputs": [],
   "source": [
    "# let's look statewide to start\n",
    "cases_st = (cases\n",
    "            .groupby('Day')\n",
    "            .aggregate({'NewPos_All': 'sum'})\n",
    "            .reset_index()\n",
    "           )\n",
    "\n",
    "deaths_st = (deaths\n",
    "             .groupby('Day')\n",
    "             .aggregate({'Deaths': 'sum'})\n",
    "             .reset_index()\n",
    "            )"
   ]
  },
  {
   "cell_type": "code",
   "execution_count": 11,
   "metadata": {},
   "outputs": [],
   "source": [
    "# calculate the moving averages\n",
    "cases_st['new_cases_MA'] = cases_st['NewPos_All'].rolling(5).mean()\n",
    "deaths_st['deaths_MA'] = deaths_st['Deaths'].rolling(5).mean()"
   ]
  },
  {
   "cell_type": "code",
   "execution_count": 22,
   "metadata": {},
   "outputs": [
    {
     "data": {
      "text/html": [
       "\n",
       "<div id=\"altair-viz-8\"></div>\n",
       "<script type=\"text/javascript\">\n",
       "  (function(spec, embedOpt){\n",
       "    const outputDiv = document.getElementById(\"altair-viz-8\");\n",
       "    const paths = {\n",
       "      \"vega\": \"https://cdn.jsdelivr.net/npm//vega@5?noext\",\n",
       "      \"vega-lib\": \"https://cdn.jsdelivr.net/npm//vega-lib?noext\",\n",
       "      \"vega-lite\": \"https://cdn.jsdelivr.net/npm//vega-lite@4.0.0?noext\",\n",
       "      \"vega-embed\": \"https://cdn.jsdelivr.net/npm//vega-embed@6?noext\",\n",
       "    };\n",
       "\n",
       "    function loadScript(lib) {\n",
       "      return new Promise(function(resolve, reject) {\n",
       "        var s = document.createElement('script');\n",
       "        s.src = paths[lib];\n",
       "        s.async = true;\n",
       "        s.onload = () => resolve(paths[lib]);\n",
       "        s.onerror = () => reject(`Error loading script: ${paths[lib]}`);\n",
       "        document.getElementsByTagName(\"head\")[0].appendChild(s);\n",
       "      });\n",
       "    }\n",
       "\n",
       "    function showError(err) {\n",
       "      outputDiv.innerHTML = `<div class=\"error\" style=\"color:red;\">${err}</div>`;\n",
       "      throw err;\n",
       "    }\n",
       "\n",
       "    function displayChart(vegaEmbed) {\n",
       "      vegaEmbed(outputDiv, spec, embedOpt)\n",
       "        .catch(err => showError(`Javascript Error: ${err.message}<br>This usually means there's a typo in your chart specification. See the javascript console for the full traceback.`));\n",
       "    }\n",
       "\n",
       "    if(typeof define === \"function\" && define.amd) {\n",
       "      requirejs.config({paths});\n",
       "      require([\"vega-embed\"], displayChart, err => showError(`Error loading script: ${err.message}`));\n",
       "    } else if (typeof vegaEmbed === \"function\") {\n",
       "      displayChart(vegaEmbed);\n",
       "    } else {\n",
       "      loadScript(\"vega\")\n",
       "        .then(() => loadScript(\"vega-lite\"))\n",
       "        .then(() => loadScript(\"vega-embed\"))\n",
       "        .catch(showError)\n",
       "        .then(() => displayChart(vegaEmbed));\n",
       "    }\n",
       "  })({\"config\": {\"view\": {\"continuousWidth\": 400, \"continuousHeight\": 300}}, \"layer\": [{\"mark\": {\"type\": \"bar\", \"color\": \"#65799b\"}, \"encoding\": {\"tooltip\": [{\"type\": \"quantitative\", \"field\": \"NewPos_All\"}, {\"type\": \"nominal\", \"field\": \"Day\"}], \"x\": {\"type\": \"nominal\", \"axis\": {\"labels\": false}, \"field\": \"Day\"}, \"y\": {\"type\": \"quantitative\", \"field\": \"NewPos_All\"}}}, {\"mark\": {\"type\": \"line\", \"color\": \"#e23e57\"}, \"encoding\": {\"x\": {\"type\": \"nominal\", \"axis\": {\"labels\": false}, \"field\": \"Day\"}, \"y\": {\"type\": \"quantitative\", \"field\": \"new_cases_MA\"}}}], \"data\": {\"name\": \"data-0e6d022a8c77661459e5ce96913a2a5c\"}, \"height\": 300, \"title\": \"WA Statewide New Cases per Day, 5-day moving average in red\", \"width\": 800, \"$schema\": \"https://vega.github.io/schema/vega-lite/v4.0.0.json\", \"datasets\": {\"data-0e6d022a8c77661459e5ce96913a2a5c\": [{\"Day\": \"2020-01-16\", \"NewPos_All\": 1, \"new_cases_MA\": null}, {\"Day\": \"2020-01-17\", \"NewPos_All\": 0, \"new_cases_MA\": null}, {\"Day\": \"2020-01-18\", \"NewPos_All\": 0, \"new_cases_MA\": null}, {\"Day\": \"2020-01-19\", \"NewPos_All\": 0, \"new_cases_MA\": null}, {\"Day\": \"2020-01-20\", \"NewPos_All\": 0, \"new_cases_MA\": 0.2}, {\"Day\": \"2020-01-21\", \"NewPos_All\": 0, \"new_cases_MA\": 0.0}, {\"Day\": \"2020-01-22\", \"NewPos_All\": 2, \"new_cases_MA\": 0.4}, {\"Day\": \"2020-01-23\", \"NewPos_All\": 0, \"new_cases_MA\": 0.4}, {\"Day\": \"2020-01-24\", \"NewPos_All\": 0, \"new_cases_MA\": 0.4}, {\"Day\": \"2020-01-25\", \"NewPos_All\": 1, \"new_cases_MA\": 0.6}, {\"Day\": \"2020-01-26\", \"NewPos_All\": 0, \"new_cases_MA\": 0.6}, {\"Day\": \"2020-01-27\", \"NewPos_All\": 0, \"new_cases_MA\": 0.2}, {\"Day\": \"2020-01-28\", \"NewPos_All\": 0, \"new_cases_MA\": 0.2}, {\"Day\": \"2020-01-29\", \"NewPos_All\": 1, \"new_cases_MA\": 0.4}, {\"Day\": \"2020-01-30\", \"NewPos_All\": 0, \"new_cases_MA\": 0.2}, {\"Day\": \"2020-01-31\", \"NewPos_All\": 0, \"new_cases_MA\": 0.2}, {\"Day\": \"2020-02-01\", \"NewPos_All\": 2, \"new_cases_MA\": 0.6}, {\"Day\": \"2020-02-02\", \"NewPos_All\": 4, \"new_cases_MA\": 1.4}, {\"Day\": \"2020-02-03\", \"NewPos_All\": 2, \"new_cases_MA\": 1.6}, {\"Day\": \"2020-02-04\", \"NewPos_All\": 0, \"new_cases_MA\": 1.6}, {\"Day\": \"2020-02-05\", \"NewPos_All\": 0, \"new_cases_MA\": 1.6}, {\"Day\": \"2020-02-06\", \"NewPos_All\": 2, \"new_cases_MA\": 1.6}, {\"Day\": \"2020-02-07\", \"NewPos_All\": 0, \"new_cases_MA\": 0.8}, {\"Day\": \"2020-02-08\", \"NewPos_All\": 2, \"new_cases_MA\": 0.8}, {\"Day\": \"2020-02-09\", \"NewPos_All\": 0, \"new_cases_MA\": 0.8}, {\"Day\": \"2020-02-10\", \"NewPos_All\": 2, \"new_cases_MA\": 1.2}, {\"Day\": \"2020-02-11\", \"NewPos_All\": 1, \"new_cases_MA\": 1.0}, {\"Day\": \"2020-02-12\", \"NewPos_All\": 2, \"new_cases_MA\": 1.4}, {\"Day\": \"2020-02-13\", \"NewPos_All\": 1, \"new_cases_MA\": 1.2}, {\"Day\": \"2020-02-14\", \"NewPos_All\": 1, \"new_cases_MA\": 1.4}, {\"Day\": \"2020-02-15\", \"NewPos_All\": 4, \"new_cases_MA\": 1.8}, {\"Day\": \"2020-02-16\", \"NewPos_All\": 9, \"new_cases_MA\": 3.4}, {\"Day\": \"2020-02-17\", \"NewPos_All\": 14, \"new_cases_MA\": 5.8}, {\"Day\": \"2020-02-18\", \"NewPos_All\": 9, \"new_cases_MA\": 7.4}, {\"Day\": \"2020-02-19\", \"NewPos_All\": 7, \"new_cases_MA\": 8.6}, {\"Day\": \"2020-02-20\", \"NewPos_All\": 11, \"new_cases_MA\": 10.0}, {\"Day\": \"2020-02-21\", \"NewPos_All\": 11, \"new_cases_MA\": 10.4}, {\"Day\": \"2020-02-22\", \"NewPos_All\": 11, \"new_cases_MA\": 9.8}, {\"Day\": \"2020-02-23\", \"NewPos_All\": 17, \"new_cases_MA\": 11.4}, {\"Day\": \"2020-02-24\", \"NewPos_All\": 22, \"new_cases_MA\": 14.4}, {\"Day\": \"2020-02-25\", \"NewPos_All\": 30, \"new_cases_MA\": 18.2}, {\"Day\": \"2020-02-26\", \"NewPos_All\": 25, \"new_cases_MA\": 21.0}, {\"Day\": \"2020-02-27\", \"NewPos_All\": 26, \"new_cases_MA\": 24.0}, {\"Day\": \"2020-02-28\", \"NewPos_All\": 36, \"new_cases_MA\": 27.8}, {\"Day\": \"2020-02-29\", \"NewPos_All\": 23, \"new_cases_MA\": 28.0}, {\"Day\": \"2020-03-01\", \"NewPos_All\": 70, \"new_cases_MA\": 36.0}, {\"Day\": \"2020-03-02\", \"NewPos_All\": 64, \"new_cases_MA\": 43.8}, {\"Day\": \"2020-03-03\", \"NewPos_All\": 81, \"new_cases_MA\": 54.8}, {\"Day\": \"2020-03-04\", \"NewPos_All\": 86, \"new_cases_MA\": 64.8}, {\"Day\": \"2020-03-05\", \"NewPos_All\": 98, \"new_cases_MA\": 79.8}, {\"Day\": \"2020-03-06\", \"NewPos_All\": 78, \"new_cases_MA\": 81.4}, {\"Day\": \"2020-03-07\", \"NewPos_All\": 94, \"new_cases_MA\": 87.4}, {\"Day\": \"2020-03-08\", \"NewPos_All\": 152, \"new_cases_MA\": 101.6}, {\"Day\": \"2020-03-09\", \"NewPos_All\": 168, \"new_cases_MA\": 118.0}, {\"Day\": \"2020-03-10\", \"NewPos_All\": 206, \"new_cases_MA\": 139.6}, {\"Day\": \"2020-03-11\", \"NewPos_All\": 199, \"new_cases_MA\": 163.8}, {\"Day\": \"2020-03-12\", \"NewPos_All\": 251, \"new_cases_MA\": 195.2}, {\"Day\": \"2020-03-13\", \"NewPos_All\": 286, \"new_cases_MA\": 222.0}, {\"Day\": \"2020-03-14\", \"NewPos_All\": 251, \"new_cases_MA\": 238.6}, {\"Day\": \"2020-03-15\", \"NewPos_All\": 231, \"new_cases_MA\": 243.6}, {\"Day\": \"2020-03-16\", \"NewPos_All\": 356, \"new_cases_MA\": 275.0}, {\"Day\": \"2020-03-17\", \"NewPos_All\": 308, \"new_cases_MA\": 286.4}, {\"Day\": \"2020-03-18\", \"NewPos_All\": 362, \"new_cases_MA\": 301.6}, {\"Day\": \"2020-03-19\", \"NewPos_All\": 327, \"new_cases_MA\": 316.8}, {\"Day\": \"2020-03-20\", \"NewPos_All\": 376, \"new_cases_MA\": 345.8}, {\"Day\": \"2020-03-21\", \"NewPos_All\": 267, \"new_cases_MA\": 328.0}, {\"Day\": \"2020-03-22\", \"NewPos_All\": 269, \"new_cases_MA\": 320.2}, {\"Day\": \"2020-03-23\", \"NewPos_All\": 425, \"new_cases_MA\": 332.8}, {\"Day\": \"2020-03-24\", \"NewPos_All\": 348, \"new_cases_MA\": 337.0}, {\"Day\": \"2020-03-25\", \"NewPos_All\": 403, \"new_cases_MA\": 342.4}, {\"Day\": \"2020-03-26\", \"NewPos_All\": 363, \"new_cases_MA\": 361.6}, {\"Day\": \"2020-03-27\", \"NewPos_All\": 360, \"new_cases_MA\": 379.8}, {\"Day\": \"2020-03-28\", \"NewPos_All\": 314, \"new_cases_MA\": 357.6}, {\"Day\": \"2020-03-29\", \"NewPos_All\": 303, \"new_cases_MA\": 348.6}, {\"Day\": \"2020-03-30\", \"NewPos_All\": 399, \"new_cases_MA\": 347.8}, {\"Day\": \"2020-03-31\", \"NewPos_All\": 297, \"new_cases_MA\": 334.6}, {\"Day\": \"2020-04-01\", \"NewPos_All\": 393, \"new_cases_MA\": 341.2}, {\"Day\": \"2020-04-02\", \"NewPos_All\": 316, \"new_cases_MA\": 341.6}, {\"Day\": \"2020-04-03\", \"NewPos_All\": 276, \"new_cases_MA\": 336.2}, {\"Day\": \"2020-04-04\", \"NewPos_All\": 223, \"new_cases_MA\": 301.0}, {\"Day\": \"2020-04-05\", \"NewPos_All\": 210, \"new_cases_MA\": 283.6}, {\"Day\": \"2020-04-06\", \"NewPos_All\": 281, \"new_cases_MA\": 261.2}, {\"Day\": \"2020-04-07\", \"NewPos_All\": 255, \"new_cases_MA\": 249.0}, {\"Day\": \"2020-04-08\", \"NewPos_All\": 259, \"new_cases_MA\": 245.6}, {\"Day\": \"2020-04-09\", \"NewPos_All\": 258, \"new_cases_MA\": 252.6}, {\"Day\": \"2020-04-10\", \"NewPos_All\": 188, \"new_cases_MA\": 248.2}, {\"Day\": \"2020-04-11\", \"NewPos_All\": 133, \"new_cases_MA\": 218.6}, {\"Day\": \"2020-04-12\", \"NewPos_All\": 95, \"new_cases_MA\": 186.6}, {\"Day\": \"2020-04-13\", \"NewPos_All\": 202, \"new_cases_MA\": 175.2}, {\"Day\": \"2020-04-14\", \"NewPos_All\": 159, \"new_cases_MA\": 155.4}, {\"Day\": \"2020-04-15\", \"NewPos_All\": 240, \"new_cases_MA\": 165.8}, {\"Day\": \"2020-04-16\", \"NewPos_All\": 213, \"new_cases_MA\": 181.8}, {\"Day\": \"2020-04-17\", \"NewPos_All\": 203, \"new_cases_MA\": 203.4}, {\"Day\": \"2020-04-18\", \"NewPos_All\": 79, \"new_cases_MA\": 178.8}, {\"Day\": \"2020-04-19\", \"NewPos_All\": 17, \"new_cases_MA\": 150.4}]}}, {\"mode\": \"vega-lite\"});\n",
       "</script>"
      ],
      "text/plain": [
       "alt.LayerChart(...)"
      ]
     },
     "execution_count": 22,
     "metadata": {},
     "output_type": "execute_result"
    }
   ],
   "source": [
    "base = alt.Chart(cases_st).encode(x = alt.X('Day', axis = alt.Axis(labels = False)))\n",
    "\n",
    "bars = (base\n",
    "        .mark_bar(color = '#65799b')\n",
    "        .encode(y = 'NewPos_All',\n",
    "                tooltip = ['NewPos_All', 'Day'])\n",
    "       )\n",
    "\n",
    "line = (base\n",
    "        .mark_line(color = '#e23e57')\n",
    "        .encode(y = 'new_cases_MA')\n",
    "       )\n",
    "\n",
    "(bars + line).properties(height = 300, width = 800, title = 'WA Statewide New Cases per Day, 5-day moving average in red')"
   ]
  },
  {
   "cell_type": "code",
   "execution_count": 27,
   "metadata": {},
   "outputs": [
    {
     "data": {
      "text/html": [
       "\n",
       "<div id=\"altair-viz-12\"></div>\n",
       "<script type=\"text/javascript\">\n",
       "  (function(spec, embedOpt){\n",
       "    const outputDiv = document.getElementById(\"altair-viz-12\");\n",
       "    const paths = {\n",
       "      \"vega\": \"https://cdn.jsdelivr.net/npm//vega@5?noext\",\n",
       "      \"vega-lib\": \"https://cdn.jsdelivr.net/npm//vega-lib?noext\",\n",
       "      \"vega-lite\": \"https://cdn.jsdelivr.net/npm//vega-lite@4.0.0?noext\",\n",
       "      \"vega-embed\": \"https://cdn.jsdelivr.net/npm//vega-embed@6?noext\",\n",
       "    };\n",
       "\n",
       "    function loadScript(lib) {\n",
       "      return new Promise(function(resolve, reject) {\n",
       "        var s = document.createElement('script');\n",
       "        s.src = paths[lib];\n",
       "        s.async = true;\n",
       "        s.onload = () => resolve(paths[lib]);\n",
       "        s.onerror = () => reject(`Error loading script: ${paths[lib]}`);\n",
       "        document.getElementsByTagName(\"head\")[0].appendChild(s);\n",
       "      });\n",
       "    }\n",
       "\n",
       "    function showError(err) {\n",
       "      outputDiv.innerHTML = `<div class=\"error\" style=\"color:red;\">${err}</div>`;\n",
       "      throw err;\n",
       "    }\n",
       "\n",
       "    function displayChart(vegaEmbed) {\n",
       "      vegaEmbed(outputDiv, spec, embedOpt)\n",
       "        .catch(err => showError(`Javascript Error: ${err.message}<br>This usually means there's a typo in your chart specification. See the javascript console for the full traceback.`));\n",
       "    }\n",
       "\n",
       "    if(typeof define === \"function\" && define.amd) {\n",
       "      requirejs.config({paths});\n",
       "      require([\"vega-embed\"], displayChart, err => showError(`Error loading script: ${err.message}`));\n",
       "    } else if (typeof vegaEmbed === \"function\") {\n",
       "      displayChart(vegaEmbed);\n",
       "    } else {\n",
       "      loadScript(\"vega\")\n",
       "        .then(() => loadScript(\"vega-lite\"))\n",
       "        .then(() => loadScript(\"vega-embed\"))\n",
       "        .catch(showError)\n",
       "        .then(() => displayChart(vegaEmbed));\n",
       "    }\n",
       "  })({\"config\": {\"view\": {\"continuousWidth\": 400, \"continuousHeight\": 300}}, \"layer\": [{\"mark\": {\"type\": \"bar\", \"color\": \"#f67280\"}, \"encoding\": {\"tooltip\": [{\"type\": \"quantitative\", \"field\": \"Deaths\"}, {\"type\": \"nominal\", \"field\": \"Day\"}], \"x\": {\"type\": \"nominal\", \"axis\": {\"labels\": false}, \"field\": \"Day\"}, \"y\": {\"type\": \"quantitative\", \"field\": \"Deaths\"}}}, {\"mark\": {\"type\": \"line\", \"color\": \"#6c567b\"}, \"encoding\": {\"x\": {\"type\": \"nominal\", \"axis\": {\"labels\": false}, \"field\": \"Day\"}, \"y\": {\"type\": \"quantitative\", \"field\": \"deaths_MA\"}}}], \"data\": {\"name\": \"data-f8a1867137c33960d45b5c02791877e0\"}, \"height\": 300, \"title\": \"WA Statewide Deaths per Day, 5-day moving average in purple\", \"width\": 800, \"$schema\": \"https://vega.github.io/schema/vega-lite/v4.0.0.json\", \"datasets\": {\"data-f8a1867137c33960d45b5c02791877e0\": [{\"Day\": \"2020-02-01\", \"Deaths\": 0, \"deaths_MA\": null}, {\"Day\": \"2020-02-02\", \"Deaths\": 1, \"deaths_MA\": null}, {\"Day\": \"2020-02-03\", \"Deaths\": 1, \"deaths_MA\": null}, {\"Day\": \"2020-02-04\", \"Deaths\": 0, \"deaths_MA\": null}, {\"Day\": \"2020-02-05\", \"Deaths\": 0, \"deaths_MA\": 0.4}, {\"Day\": \"2020-02-06\", \"Deaths\": 0, \"deaths_MA\": 0.4}, {\"Day\": \"2020-02-07\", \"Deaths\": 0, \"deaths_MA\": 0.2}, {\"Day\": \"2020-02-08\", \"Deaths\": 1, \"deaths_MA\": 0.2}, {\"Day\": \"2020-02-09\", \"Deaths\": 0, \"deaths_MA\": 0.2}, {\"Day\": \"2020-02-10\", \"Deaths\": 0, \"deaths_MA\": 0.2}, {\"Day\": \"2020-02-11\", \"Deaths\": 0, \"deaths_MA\": 0.2}, {\"Day\": \"2020-02-12\", \"Deaths\": 0, \"deaths_MA\": 0.2}, {\"Day\": \"2020-02-13\", \"Deaths\": 0, \"deaths_MA\": 0.0}, {\"Day\": \"2020-02-14\", \"Deaths\": 1, \"deaths_MA\": 0.2}, {\"Day\": \"2020-02-15\", \"Deaths\": 0, \"deaths_MA\": 0.2}, {\"Day\": \"2020-02-16\", \"Deaths\": 2, \"deaths_MA\": 0.6}, {\"Day\": \"2020-02-17\", \"Deaths\": 2, \"deaths_MA\": 1.0}, {\"Day\": \"2020-02-18\", \"Deaths\": 2, \"deaths_MA\": 1.4}, {\"Day\": \"2020-02-19\", \"Deaths\": 1, \"deaths_MA\": 1.4}, {\"Day\": \"2020-02-20\", \"Deaths\": 2, \"deaths_MA\": 1.8}, {\"Day\": \"2020-02-21\", \"Deaths\": 1, \"deaths_MA\": 1.6}, {\"Day\": \"2020-02-22\", \"Deaths\": 1, \"deaths_MA\": 1.4}, {\"Day\": \"2020-02-23\", \"Deaths\": 5, \"deaths_MA\": 2.0}, {\"Day\": \"2020-02-24\", \"Deaths\": 3, \"deaths_MA\": 2.4}, {\"Day\": \"2020-02-25\", \"Deaths\": 5, \"deaths_MA\": 3.0}, {\"Day\": \"2020-02-26\", \"Deaths\": 7, \"deaths_MA\": 4.2}, {\"Day\": \"2020-02-27\", \"Deaths\": 5, \"deaths_MA\": 5.0}, {\"Day\": \"2020-02-28\", \"Deaths\": 6, \"deaths_MA\": 5.2}, {\"Day\": \"2020-02-29\", \"Deaths\": 3, \"deaths_MA\": 5.2}, {\"Day\": \"2020-03-01\", \"Deaths\": 5, \"deaths_MA\": 5.2}, {\"Day\": \"2020-03-02\", \"Deaths\": 6, \"deaths_MA\": 5.0}, {\"Day\": \"2020-03-03\", \"Deaths\": 14, \"deaths_MA\": 6.8}, {\"Day\": \"2020-03-04\", \"Deaths\": 8, \"deaths_MA\": 7.2}, {\"Day\": \"2020-03-05\", \"Deaths\": 6, \"deaths_MA\": 7.8}, {\"Day\": \"2020-03-06\", \"Deaths\": 6, \"deaths_MA\": 8.0}, {\"Day\": \"2020-03-07\", \"Deaths\": 9, \"deaths_MA\": 8.6}, {\"Day\": \"2020-03-08\", \"Deaths\": 9, \"deaths_MA\": 7.6}, {\"Day\": \"2020-03-09\", \"Deaths\": 13, \"deaths_MA\": 8.6}, {\"Day\": \"2020-03-10\", \"Deaths\": 9, \"deaths_MA\": 9.2}, {\"Day\": \"2020-03-11\", \"Deaths\": 13, \"deaths_MA\": 10.6}, {\"Day\": \"2020-03-12\", \"Deaths\": 11, \"deaths_MA\": 11.0}, {\"Day\": \"2020-03-13\", \"Deaths\": 10, \"deaths_MA\": 11.2}, {\"Day\": \"2020-03-14\", \"Deaths\": 27, \"deaths_MA\": 14.0}, {\"Day\": \"2020-03-15\", \"Deaths\": 11, \"deaths_MA\": 14.4}, {\"Day\": \"2020-03-16\", \"Deaths\": 18, \"deaths_MA\": 15.4}, {\"Day\": \"2020-03-17\", \"Deaths\": 18, \"deaths_MA\": 16.8}, {\"Day\": \"2020-03-18\", \"Deaths\": 17, \"deaths_MA\": 18.2}, {\"Day\": \"2020-03-19\", \"Deaths\": 22, \"deaths_MA\": 17.2}, {\"Day\": \"2020-03-20\", \"Deaths\": 16, \"deaths_MA\": 18.2}, {\"Day\": \"2020-03-21\", \"Deaths\": 14, \"deaths_MA\": 17.4}, {\"Day\": \"2020-03-22\", \"Deaths\": 17, \"deaths_MA\": 17.2}, {\"Day\": \"2020-03-23\", \"Deaths\": 28, \"deaths_MA\": 19.4}, {\"Day\": \"2020-03-24\", \"Deaths\": 18, \"deaths_MA\": 18.6}, {\"Day\": \"2020-03-25\", \"Deaths\": 27, \"deaths_MA\": 20.8}, {\"Day\": \"2020-03-26\", \"Deaths\": 28, \"deaths_MA\": 23.6}, {\"Day\": \"2020-03-27\", \"Deaths\": 20, \"deaths_MA\": 24.2}, {\"Day\": \"2020-03-28\", \"Deaths\": 19, \"deaths_MA\": 22.4}, {\"Day\": \"2020-03-29\", \"Deaths\": 14, \"deaths_MA\": 21.6}, {\"Day\": \"2020-03-30\", \"Deaths\": 19, \"deaths_MA\": 20.0}, {\"Day\": \"2020-03-31\", \"Deaths\": 23, \"deaths_MA\": 19.0}, {\"Day\": \"2020-04-01\", \"Deaths\": 19, \"deaths_MA\": 18.8}, {\"Day\": \"2020-04-02\", \"Deaths\": 13, \"deaths_MA\": 17.6}, {\"Day\": \"2020-04-03\", \"Deaths\": 10, \"deaths_MA\": 16.8}, {\"Day\": \"2020-04-04\", \"Deaths\": 8, \"deaths_MA\": 14.6}, {\"Day\": \"2020-04-05\", \"Deaths\": 7, \"deaths_MA\": 11.4}, {\"Day\": \"2020-04-06\", \"Deaths\": 10, \"deaths_MA\": 9.6}, {\"Day\": \"2020-04-07\", \"Deaths\": 7, \"deaths_MA\": 8.4}, {\"Day\": \"2020-04-08\", \"Deaths\": 17, \"deaths_MA\": 9.8}, {\"Day\": \"2020-04-09\", \"Deaths\": 10, \"deaths_MA\": 10.2}, {\"Day\": \"2020-04-10\", \"Deaths\": 3, \"deaths_MA\": 9.4}, {\"Day\": \"2020-04-11\", \"Deaths\": 7, \"deaths_MA\": 8.8}, {\"Day\": \"2020-04-12\", \"Deaths\": 4, \"deaths_MA\": 8.2}, {\"Day\": \"2020-04-13\", \"Deaths\": 2, \"deaths_MA\": 5.2}, {\"Day\": \"2020-04-14\", \"Deaths\": 2, \"deaths_MA\": 3.6}, {\"Day\": \"2020-04-15\", \"Deaths\": 4, \"deaths_MA\": 3.8}, {\"Day\": \"2020-04-16\", \"Deaths\": 3, \"deaths_MA\": 3.0}, {\"Day\": \"2020-04-17\", \"Deaths\": 1, \"deaths_MA\": 2.4}, {\"Day\": \"2020-04-18\", \"Deaths\": 1, \"deaths_MA\": 2.2}, {\"Day\": \"2020-04-19\", \"Deaths\": 0, \"deaths_MA\": 1.8}]}}, {\"mode\": \"vega-lite\"});\n",
       "</script>"
      ],
      "text/plain": [
       "alt.LayerChart(...)"
      ]
     },
     "execution_count": 27,
     "metadata": {},
     "output_type": "execute_result"
    }
   ],
   "source": [
    "base = alt.Chart(deaths_st).encode(x = alt.X('Day', axis = alt.Axis(labels = False)))\n",
    "\n",
    "bars = (base\n",
    "        .mark_bar(color = '#f67280')\n",
    "        .encode(y = 'Deaths',\n",
    "                tooltip = ['Deaths', 'Day'])\n",
    "       )\n",
    "\n",
    "line = (base\n",
    "        .mark_line(color = '#6c567b')\n",
    "        .encode(y = 'deaths_MA')\n",
    "       )\n",
    "\n",
    "(bars + line).properties(height = 300, width = 800, title = 'WA Statewide Deaths per Day, 5-day moving average in purple')"
   ]
  },
  {
   "cell_type": "code",
   "execution_count": null,
   "metadata": {},
   "outputs": [],
   "source": []
  }
 ],
 "metadata": {
  "kernelspec": {
   "display_name": "Python [covid]",
   "language": "python",
   "name": "Python [covid]"
  },
  "language_info": {
   "codemirror_mode": {
    "name": "ipython",
    "version": 3
   },
   "file_extension": ".py",
   "mimetype": "text/x-python",
   "name": "python",
   "nbconvert_exporter": "python",
   "pygments_lexer": "ipython3",
   "version": "3.7.7"
  }
 },
 "nbformat": 4,
 "nbformat_minor": 2
}
